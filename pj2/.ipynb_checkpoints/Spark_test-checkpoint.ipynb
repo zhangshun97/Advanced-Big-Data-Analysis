{
 "cells": [
  {
   "cell_type": "code",
   "execution_count": 1,
   "metadata": {},
   "outputs": [],
   "source": [
    "from pyspark import SparkContext, SparkConf\n",
    "import re"
   ]
  },
  {
   "cell_type": "code",
   "execution_count": 2,
   "metadata": {},
   "outputs": [],
   "source": [
    "# initialization SparkContext\n",
    "conf = SparkConf().setAppName(\"TTTTTT\").setMaster(\"local\")\n",
    "sc = SparkContext(conf=conf)"
   ]
  },
  {
   "cell_type": "code",
   "execution_count": 3,
   "metadata": {},
   "outputs": [],
   "source": [
    "def get_days(record):\n",
    "    \"for E1, to compare ages from birth date\"\n",
    "    birth_date_str = record[8]\n",
    "    birth = birth_date_str.split('/')\n",
    "    days = (int(birth[2]) - 1800) * 365 + int(birth[1]) * 12 + int(birth[0])\n",
    "    return days"
   ]
  },
  {
   "cell_type": "code",
   "execution_count": null,
   "metadata": {},
   "outputs": [],
   "source": [
    "# get remote data\n",
    "data = sc.textFile(\"hdfs://10.190.2.112/data/data_dump.txt\") \\\n",
    "    .map(lambda x: re.split('\\t', x))\\\n",
    "    .map(lambda record: (record[6], 1))\\\n",
    "    .reduceByKey(lambda a, b: a + b)\\\n",
    "    .collect()\n",
    "\n",
    "print(data[:3])"
   ]
  },
  {
   "cell_type": "code",
   "execution_count": null,
   "metadata": {},
   "outputs": [],
   "source": []
  }
 ],
 "metadata": {
  "kernelspec": {
   "display_name": "Python 2",
   "language": "python",
   "name": "python2"
  },
  "language_info": {
   "codemirror_mode": {
    "name": "ipython",
    "version": 2
   },
   "file_extension": ".py",
   "mimetype": "text/x-python",
   "name": "python",
   "nbconvert_exporter": "python",
   "pygments_lexer": "ipython2",
   "version": "2.7.14"
  }
 },
 "nbformat": 4,
 "nbformat_minor": 2
}
